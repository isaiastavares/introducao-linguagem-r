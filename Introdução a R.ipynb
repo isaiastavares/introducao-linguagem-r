{
 "cells": [
  {
   "cell_type": "code",
   "execution_count": null,
   "metadata": {},
   "outputs": [],
   "source": [
    "# 4 - Variáveis\n",
    "\n",
    "# nome e amarração (estática e dinâmica), escopo (estático e dinâmico), ambiente de referenciação;"
   ]
  },
  {
   "cell_type": "code",
   "execution_count": null,
   "metadata": {},
   "outputs": [],
   "source": [
    "# -------------- Regras para nomear variáveis em R --------------\n",
    "\n",
    "# Variáveis em R podem ser nomeadas usando letras, números, ponto (.) e underline (_), porém há algumas regras básicas \n",
    "# que devem ser seguidas para criar os nomes de variáveis:\n",
    "\n",
    "    # * Devem sempre começar com uma letra ou um ponto (não com números ou símbolos). Se iniciar com um ponto, não pode ser seguido de um número.\n",
    "    # * Pode-se usar o símbolo _ (underline) no nome da variável, sendo útil para variáveis que contenham mais de uma palavra em seu nome\n",
    "    # * Não usar palavras reservadas da linguagem, como if e while, entre outras\n",
    "    # * Nomes de variáveis não podem conter espaços\n",
    "\n",
    "# Por exemplo, os seguintes nomes de variáveis são válidos em R:\n",
    "\n",
    "# soma, total, media, valor1, .resultado, primeira_nota, nota_2\n",
    "\n",
    "# Já os seguintes nomes não são válidos:\n",
    "\n",
    "# 1nota, .2periodo, soma parcial, resultado-final, true"
   ]
  },
  {
   "cell_type": "code",
   "execution_count": 24,
   "metadata": {},
   "outputs": [],
   "source": [
    "periodo <- 10"
   ]
  },
  {
   "cell_type": "code",
   "execution_count": null,
   "metadata": {},
   "outputs": [],
   "source": [
    "# -------------- Criando diversas variáveis de uma só vez --------------\n",
    "\n",
    "# É possível criar várias variáveis de uma vez em R usando a estrutura a seguir:\n",
    "# Ex.: var1 <- var2 <- varN <- valor"
   ]
  },
  {
   "cell_type": "code",
   "execution_count": null,
   "metadata": {},
   "outputs": [],
   "source": [
    "var1 <- var2 <- varN <- 10\n",
    "var1\n",
    "var2\n",
    "varN\n",
    "\n",
    "# Desta forma, são criadas N variáveis, todas inicializadas com o valor estipulado na instrução."
   ]
  },
  {
   "cell_type": "code",
   "execution_count": null,
   "metadata": {},
   "outputs": [],
   "source": [
    "# 2 - Constantes"
   ]
  },
  {
   "cell_type": "code",
   "execution_count": null,
   "metadata": {},
   "outputs": [],
   "source": [
    "# Você pode utilizar a função lockBinding:\n",
    "\n",
    "# Por exemplo:\n",
    "\n",
    "# pi <- base::pi\n",
    "# lockBinding(\"pi\", globalenv())\n",
    "# Isso vai travar a variável pi na constante base::pi interna no global environment. Assim se você tentar definir uma nova variável pi no ambiente global com outro valor, o sistema não irá deixar:\n",
    "pi <- base::pi\n",
    "lockBinding(\"pi\", globalenv())\n",
    "pi"
   ]
  },
  {
   "cell_type": "code",
   "execution_count": 31,
   "metadata": {},
   "outputs": [],
   "source": [
    "# 3 - Tipos de Dados\n",
    "\n",
    "# tipos primitivos, tipos ordinais, tipos heterogêneos (uniões, registros, dicionários, listas, etc), arrays (alocação, índices, inicialização, jagged array), ponteiro e referência, verificação de tipos, equivalência de tipos;\n",
    "\n",
    "# Em R, as variáveis não são declaradas com um tipo de dados específico, sendo que o tipo de dado é obtido a a partir do \n",
    "# objeto atribuído à variável. Desta forma, a linguagem R é dita \"Linguagem Dinamicamente Tipada\", de modo que o tipo \n",
    "# de dado de uma variável pode ser alterado dinamicamente durante a execução de um programa."
   ]
  },
  {
   "cell_type": "code",
   "execution_count": null,
   "metadata": {},
   "outputs": [],
   "source": [
    "# -------------- Verificação de Tipos --------------\n",
    "\n",
    "# O código a seguir mostra como descobrir o tipo de dado que uma variável contém:"
   ]
  },
  {
   "cell_type": "code",
   "execution_count": 30,
   "metadata": {},
   "outputs": [
    {
     "name": "stdout",
     "output_type": "stream",
     "text": [
      "A classe da variável x é character \n",
      "Agora a classe da variável x é numeric \n",
      "E agora a classe da variável x é integer \n"
     ]
    }
   ],
   "source": [
    "x <- \"UFG\"\n",
    "cat(\"A classe da variável x é\", class(x),\"\\n\")\n",
    "x <- 115.65\n",
    "cat(\"Agora a classe da variável x é\", class(x),\"\\n\")\n",
    "x <- 89L\n",
    "cat(\"E agora a classe da variável x é\", class(x),\"\\n\")"
   ]
  },
  {
   "cell_type": "code",
   "execution_count": 12,
   "metadata": {},
   "outputs": [],
   "source": [
    "# 4 - Expressões e Sentenças de Atribuição\n",
    "\n",
    "# precedencia de operadores, regras de associatividade, operadores unários, binários e ternários, expressões condicionais, efeito colateral, sobrecarga de operador, conversão de tipos (coerção e cast), expressões relacionais, expressões booleanas, operadores de curto-circuito, atribuição."
   ]
  },
  {
   "cell_type": "code",
   "execution_count": 13,
   "metadata": {},
   "outputs": [],
   "source": [
    "# -------------- Atribuição --------------\n",
    "\n",
    "# Uma variável nos permite armazenar um valor qualquer, incluindo um objeto, em um local da memória do computador. \n",
    "# Assim, é possível reutilizar esse valor sempre que necessário, bastando para isso acessá-lo usando o nome da variável \n",
    "# que o contém.\n",
    "\n",
    "# Para declarar uma variável e atribuir-lhe um valor em R podemos usar três métodos:"
   ]
  },
  {
   "cell_type": "code",
   "execution_count": 18,
   "metadata": {},
   "outputs": [
    {
     "data": {
      "text/html": [
       "10"
      ],
      "text/latex": [
       "10"
      ],
      "text/markdown": [
       "10"
      ],
      "text/plain": [
       "[1] 10"
      ]
     },
     "metadata": {},
     "output_type": "display_data"
    }
   ],
   "source": [
    "# 1 -  Símbolo de atribuição <-\n",
    "# Ex.: nome_var <- valor\n",
    "\n",
    "nome_var <- 10\n",
    "nome_var"
   ]
  },
  {
   "cell_type": "code",
   "execution_count": 17,
   "metadata": {},
   "outputs": [
    {
     "data": {
      "text/html": [
       "15"
      ],
      "text/latex": [
       "15"
      ],
      "text/markdown": [
       "15"
      ],
      "text/plain": [
       "[1] 15"
      ]
     },
     "metadata": {},
     "output_type": "display_data"
    }
   ],
   "source": [
    "# 2 - Símbolo de atribuição =\n",
    "# Ex.: nome_var = valor\n",
    "\n",
    "nome_var = 15\n",
    "nome_var"
   ]
  },
  {
   "cell_type": "code",
   "execution_count": 19,
   "metadata": {},
   "outputs": [
    {
     "data": {
      "text/html": [
       "20"
      ],
      "text/latex": [
       "20"
      ],
      "text/markdown": [
       "20"
      ],
      "text/plain": [
       "[1] 20"
      ]
     },
     "metadata": {},
     "output_type": "display_data"
    }
   ],
   "source": [
    "# 3 - Função assign()\n",
    "# Ex.: assign(\"nome_var\", valor)\n",
    "\n",
    "assign(\"nome_var\", 20)\n",
    "nome_var"
   ]
  },
  {
   "cell_type": "code",
   "execution_count": null,
   "metadata": {},
   "outputs": [],
   "source": []
  }
 ],
 "metadata": {
  "kernelspec": {
   "display_name": "R",
   "language": "R",
   "name": "ir"
  },
  "language_info": {
   "codemirror_mode": "r",
   "file_extension": ".r",
   "mimetype": "text/x-r-source",
   "name": "R",
   "pygments_lexer": "r",
   "version": "3.4.4"
  }
 },
 "nbformat": 4,
 "nbformat_minor": 2
}
